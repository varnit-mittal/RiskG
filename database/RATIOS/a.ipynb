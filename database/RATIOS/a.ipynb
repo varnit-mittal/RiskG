{
 "cells": [
  {
   "cell_type": "code",
   "execution_count": 2,
   "metadata": {},
   "outputs": [],
   "source": [
    "import os\n",
    "import pandas as pd"
   ]
  },
  {
   "cell_type": "code",
   "execution_count": 26,
   "metadata": {},
   "outputs": [],
   "source": [
    "for i in os.listdir('.'):\n",
    "    if i.endswith('.csv'):\n",
    "        with open(i) as f:\n",
    "            d={}\n",
    "            for j in f.readlines():\n",
    "                ll=j.strip().split(',')\n",
    "                l=ll[1:]\n",
    "                d[ll[0]]=l\n",
    "                if len(l)!=10:print(len(l),i,j)\n",
    "            df=pd.DataFrame(d)\n",
    "            lll=[k for k in range(2024,2014,-1)]\n",
    "            df.index=lll\n",
    "            df.to_csv(i)\n",
    "\n"
   ]
  },
  {
   "cell_type": "code",
   "execution_count": null,
   "metadata": {},
   "outputs": [],
   "source": []
  }
 ],
 "metadata": {
  "kernelspec": {
   "display_name": "Python 3",
   "language": "python",
   "name": "python3"
  },
  "language_info": {
   "codemirror_mode": {
    "name": "ipython",
    "version": 3
   },
   "file_extension": ".py",
   "mimetype": "text/x-python",
   "name": "python",
   "nbconvert_exporter": "python",
   "pygments_lexer": "ipython3",
   "version": "3.10.11"
  }
 },
 "nbformat": 4,
 "nbformat_minor": 2
}
